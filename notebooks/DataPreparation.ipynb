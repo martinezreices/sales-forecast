{
 "cells": [
  {
   "cell_type": "markdown",
   "id": "c1a5d2cf",
   "metadata": {},
   "source": [
    "#### Library Imports"
   ]
  },
  {
   "cell_type": "code",
   "execution_count": 55,
   "id": "2390e86d",
   "metadata": {},
   "outputs": [],
   "source": [
    "import pandas as pd\n",
    "import numpy as np\n",
    "\n",
    "from sklearn.feature_selection import SelectKBest, f_classif\n",
    "from sklearn.metrics import mean_squared_error, r2_score"
   ]
  },
  {
   "cell_type": "markdown",
   "id": "5d2195c6",
   "metadata": {},
   "source": [
    "### Data Preparation / Cleaning"
   ]
  },
  {
   "cell_type": "code",
   "execution_count": 49,
   "id": "941c1c72",
   "metadata": {},
   "outputs": [
    {
     "data": {
      "text/html": [
       "<div>\n",
       "<style scoped>\n",
       "    .dataframe tbody tr th:only-of-type {\n",
       "        vertical-align: middle;\n",
       "    }\n",
       "\n",
       "    .dataframe tbody tr th {\n",
       "        vertical-align: top;\n",
       "    }\n",
       "\n",
       "    .dataframe thead th {\n",
       "        text-align: right;\n",
       "    }\n",
       "</style>\n",
       "<table border=\"1\" class=\"dataframe\">\n",
       "  <thead>\n",
       "    <tr style=\"text-align: right;\">\n",
       "      <th></th>\n",
       "      <th>Store</th>\n",
       "      <th>Dept</th>\n",
       "      <th>Weekly_Sales</th>\n",
       "      <th>IsHoliday</th>\n",
       "      <th>Type</th>\n",
       "      <th>Size</th>\n",
       "      <th>Temperature</th>\n",
       "      <th>Fuel_Price</th>\n",
       "      <th>MarkDown1</th>\n",
       "      <th>MarkDown2</th>\n",
       "      <th>MarkDown3</th>\n",
       "      <th>MarkDown4</th>\n",
       "      <th>MarkDown5</th>\n",
       "      <th>CPI</th>\n",
       "      <th>Unemployment</th>\n",
       "    </tr>\n",
       "    <tr>\n",
       "      <th>Date</th>\n",
       "      <th></th>\n",
       "      <th></th>\n",
       "      <th></th>\n",
       "      <th></th>\n",
       "      <th></th>\n",
       "      <th></th>\n",
       "      <th></th>\n",
       "      <th></th>\n",
       "      <th></th>\n",
       "      <th></th>\n",
       "      <th></th>\n",
       "      <th></th>\n",
       "      <th></th>\n",
       "      <th></th>\n",
       "      <th></th>\n",
       "    </tr>\n",
       "  </thead>\n",
       "  <tbody>\n",
       "    <tr>\n",
       "      <th>2010-02-05</th>\n",
       "      <td>1</td>\n",
       "      <td>1</td>\n",
       "      <td>24924.50</td>\n",
       "      <td>False</td>\n",
       "      <td>A</td>\n",
       "      <td>151315</td>\n",
       "      <td>42.31</td>\n",
       "      <td>2.572</td>\n",
       "      <td>NaN</td>\n",
       "      <td>NaN</td>\n",
       "      <td>NaN</td>\n",
       "      <td>NaN</td>\n",
       "      <td>NaN</td>\n",
       "      <td>211.096358</td>\n",
       "      <td>8.106</td>\n",
       "    </tr>\n",
       "    <tr>\n",
       "      <th>2010-02-05</th>\n",
       "      <td>29</td>\n",
       "      <td>5</td>\n",
       "      <td>15552.08</td>\n",
       "      <td>False</td>\n",
       "      <td>B</td>\n",
       "      <td>93638</td>\n",
       "      <td>24.36</td>\n",
       "      <td>2.788</td>\n",
       "      <td>NaN</td>\n",
       "      <td>NaN</td>\n",
       "      <td>NaN</td>\n",
       "      <td>NaN</td>\n",
       "      <td>NaN</td>\n",
       "      <td>131.527903</td>\n",
       "      <td>10.064</td>\n",
       "    </tr>\n",
       "    <tr>\n",
       "      <th>2010-02-05</th>\n",
       "      <td>29</td>\n",
       "      <td>6</td>\n",
       "      <td>3200.22</td>\n",
       "      <td>False</td>\n",
       "      <td>B</td>\n",
       "      <td>93638</td>\n",
       "      <td>24.36</td>\n",
       "      <td>2.788</td>\n",
       "      <td>NaN</td>\n",
       "      <td>NaN</td>\n",
       "      <td>NaN</td>\n",
       "      <td>NaN</td>\n",
       "      <td>NaN</td>\n",
       "      <td>131.527903</td>\n",
       "      <td>10.064</td>\n",
       "    </tr>\n",
       "    <tr>\n",
       "      <th>2010-02-05</th>\n",
       "      <td>29</td>\n",
       "      <td>7</td>\n",
       "      <td>10820.05</td>\n",
       "      <td>False</td>\n",
       "      <td>B</td>\n",
       "      <td>93638</td>\n",
       "      <td>24.36</td>\n",
       "      <td>2.788</td>\n",
       "      <td>NaN</td>\n",
       "      <td>NaN</td>\n",
       "      <td>NaN</td>\n",
       "      <td>NaN</td>\n",
       "      <td>NaN</td>\n",
       "      <td>131.527903</td>\n",
       "      <td>10.064</td>\n",
       "    </tr>\n",
       "    <tr>\n",
       "      <th>2010-02-05</th>\n",
       "      <td>29</td>\n",
       "      <td>8</td>\n",
       "      <td>20055.64</td>\n",
       "      <td>False</td>\n",
       "      <td>B</td>\n",
       "      <td>93638</td>\n",
       "      <td>24.36</td>\n",
       "      <td>2.788</td>\n",
       "      <td>NaN</td>\n",
       "      <td>NaN</td>\n",
       "      <td>NaN</td>\n",
       "      <td>NaN</td>\n",
       "      <td>NaN</td>\n",
       "      <td>131.527903</td>\n",
       "      <td>10.064</td>\n",
       "    </tr>\n",
       "  </tbody>\n",
       "</table>\n",
       "</div>"
      ],
      "text/plain": [
       "            Store  Dept  Weekly_Sales IsHoliday Type    Size  Temperature  \\\n",
       "Date                                                                        \n",
       "2010-02-05      1     1      24924.50     False    A  151315        42.31   \n",
       "2010-02-05     29     5      15552.08     False    B   93638        24.36   \n",
       "2010-02-05     29     6       3200.22     False    B   93638        24.36   \n",
       "2010-02-05     29     7      10820.05     False    B   93638        24.36   \n",
       "2010-02-05     29     8      20055.64     False    B   93638        24.36   \n",
       "\n",
       "            Fuel_Price  MarkDown1  MarkDown2  MarkDown3  MarkDown4  MarkDown5  \\\n",
       "Date                                                                            \n",
       "2010-02-05       2.572        NaN        NaN        NaN        NaN        NaN   \n",
       "2010-02-05       2.788        NaN        NaN        NaN        NaN        NaN   \n",
       "2010-02-05       2.788        NaN        NaN        NaN        NaN        NaN   \n",
       "2010-02-05       2.788        NaN        NaN        NaN        NaN        NaN   \n",
       "2010-02-05       2.788        NaN        NaN        NaN        NaN        NaN   \n",
       "\n",
       "                   CPI  Unemployment  \n",
       "Date                                  \n",
       "2010-02-05  211.096358         8.106  \n",
       "2010-02-05  131.527903        10.064  \n",
       "2010-02-05  131.527903        10.064  \n",
       "2010-02-05  131.527903        10.064  \n",
       "2010-02-05  131.527903        10.064  "
      ]
     },
     "execution_count": 49,
     "metadata": {},
     "output_type": "execute_result"
    }
   ],
   "source": [
    "df_processed = pd.read_pickle('../data/processed/df_processed.pkl')\n",
    "df_processed.head()\n"
   ]
  },
  {
   "cell_type": "code",
   "execution_count": 50,
   "id": "7e5e451d",
   "metadata": {},
   "outputs": [
    {
     "name": "stdout",
     "output_type": "stream",
     "text": [
      "\n",
      " Reviewing for missing values : \n",
      "\n"
     ]
    },
    {
     "data": {
      "text/plain": [
       "Store                0\n",
       "Dept                 0\n",
       "Weekly_Sales         0\n",
       "IsHoliday            0\n",
       "Type                 0\n",
       "Size                 0\n",
       "Temperature          0\n",
       "Fuel_Price           0\n",
       "MarkDown1       270889\n",
       "MarkDown2       310322\n",
       "MarkDown3       284479\n",
       "MarkDown4       286603\n",
       "MarkDown5       270138\n",
       "CPI                  0\n",
       "Unemployment         0\n",
       "dtype: int64"
      ]
     },
     "execution_count": 50,
     "metadata": {},
     "output_type": "execute_result"
    }
   ],
   "source": [
    "print('\\n Reviewing for missing values : \\n')\n",
    "df_processed.isna().sum()"
   ]
  },
  {
   "cell_type": "code",
   "execution_count": 51,
   "id": "852a67c4",
   "metadata": {},
   "outputs": [
    {
     "name": "stdout",
     "output_type": "stream",
     "text": [
      "\n",
      " ------------------------- \n",
      "\n",
      "\n",
      " Cleaned Dataset : \n",
      "\n"
     ]
    },
    {
     "data": {
      "text/plain": [
       "Store           0\n",
       "Dept            0\n",
       "Weekly_Sales    0\n",
       "IsHoliday       0\n",
       "Type            0\n",
       "Size            0\n",
       "Temperature     0\n",
       "Fuel_Price      0\n",
       "MarkDown1       0\n",
       "MarkDown2       0\n",
       "MarkDown3       0\n",
       "MarkDown4       0\n",
       "MarkDown5       0\n",
       "CPI             0\n",
       "Unemployment    0\n",
       "dtype: int64"
      ]
     },
     "execution_count": 51,
     "metadata": {},
     "output_type": "execute_result"
    }
   ],
   "source": [
    "print('\\n ------------------------- \\n')\n",
    "print('\\n Cleaned Dataset : \\n')\n",
    "df_processed.fillna(0, inplace=True)\n",
    "df_processed.isna().sum()"
   ]
  },
  {
   "cell_type": "markdown",
   "id": "b69b13c6",
   "metadata": {},
   "source": [
    "### Feature Selection"
   ]
  },
  {
   "cell_type": "code",
   "execution_count": null,
   "id": "007d4b07",
   "metadata": {},
   "outputs": [],
   "source": [
    "X = df_processed.drop('Weekly_Sales', axis=1)\n",
    "y = df_processed['Weekly_Sales']\n",
    "\n",
    "numerical_columns = X.select_dtypes(include=np.number).columns\n",
    "categorical_columns = X.select_dtypes(include='object').columns"
   ]
  },
  {
   "cell_type": "code",
   "execution_count": 54,
   "id": "49b3ca46",
   "metadata": {},
   "outputs": [
    {
     "name": "stdout",
     "output_type": "stream",
     "text": [
      "            Store  Dept    Size  Temperature  Fuel_Price  MarkDown1  \\\n",
      "Date                                                                  \n",
      "2010-02-05      1     1  151315        42.31       2.572        0.0   \n",
      "2010-02-05     29     5   93638        24.36       2.788        0.0   \n",
      "2010-02-05     29     6   93638        24.36       2.788        0.0   \n",
      "2010-02-05     29     7   93638        24.36       2.788        0.0   \n",
      "2010-02-05     29     8   93638        24.36       2.788        0.0   \n",
      "\n",
      "            MarkDown2  MarkDown3  MarkDown4  MarkDown5         CPI  \\\n",
      "Date                                                                 \n",
      "2010-02-05        0.0        0.0        0.0        0.0  211.096358   \n",
      "2010-02-05        0.0        0.0        0.0        0.0  131.527903   \n",
      "2010-02-05        0.0        0.0        0.0        0.0  131.527903   \n",
      "2010-02-05        0.0        0.0        0.0        0.0  131.527903   \n",
      "2010-02-05        0.0        0.0        0.0        0.0  131.527903   \n",
      "\n",
      "            Unemployment  IsHoliday_False  IsHoliday_True  Type_A  Type_B  \\\n",
      "Date                                                                        \n",
      "2010-02-05         8.106                1               0       1       0   \n",
      "2010-02-05        10.064                1               0       0       1   \n",
      "2010-02-05        10.064                1               0       0       1   \n",
      "2010-02-05        10.064                1               0       0       1   \n",
      "2010-02-05        10.064                1               0       0       1   \n",
      "\n",
      "            Type_C  \n",
      "Date                \n",
      "2010-02-05       0  \n",
      "2010-02-05       0  \n",
      "2010-02-05       0  \n",
      "2010-02-05       0  \n",
      "2010-02-05       0  \n"
     ]
    }
   ],
   "source": [
    "# One-Hot Encoding Categorical Variables\n",
    "\n",
    "if not categorical_columns.empty:\n",
    "    X = pd.get_dummies(X, columns=categorical_columns, drop_first=False, dtype=int)\n",
    "    print(X.head())\n",
    "else:\n",
    "    print('\\n No Categorical features to encode')"
   ]
  },
  {
   "cell_type": "code",
   "execution_count": 58,
   "id": "a45cf76e",
   "metadata": {},
   "outputs": [
    {
     "name": "stdout",
     "output_type": "stream",
     "text": [
      "\n",
      " feature scores from SelectKBest :\n",
      "            Feature         Score\n",
      "2              Size  26647.338563\n",
      "14           Type_A  15009.373846\n",
      "1              Dept   9444.999393\n",
      "15           Type_B   7385.920249\n",
      "16           Type_C   3871.030495\n",
      "0             Store   3082.190335\n",
      "9         MarkDown5   1076.367782\n",
      "5         MarkDown1    940.177812\n",
      "7         MarkDown3    627.818196\n",
      "8         MarkDown4    592.624706\n",
      "11     Unemployment    282.189019\n",
      "10              CPI    184.602072\n",
      "6         MarkDown2    181.002868\n",
      "12  IsHoliday_False     68.802991\n",
      "13   IsHoliday_True     68.802991\n",
      "3       Temperature      2.254309\n",
      "4        Fuel_Price      0.006101\n"
     ]
    }
   ],
   "source": [
    "# Selecting the best numberical features with SelectKBest\n",
    "\n",
    "numerical_selection = X.select_dtypes(include=np.number)\n",
    "\n",
    "if not numerical_selection.empty:\n",
    "    from sklearn.feature_selection import f_regression\n",
    "    selector = SelectKBest(score_func=f_regression, k='all')\n",
    "    selector.fit(numerical_selection, y)\n",
    "\n",
    "    feature_scores = pd.DataFrame({\n",
    "        'Feature' : numerical_selection.columns,\n",
    "        'Score' : selector.scores_\n",
    "    }).sort_values(by='Score', ascending=False)\n",
    "\n",
    "    print('\\n feature scores from SelectKBest :')\n",
    "    print(feature_scores)\n",
    "\n",
    "    X_final = X.copy()\n",
    "else: \n",
    "    X_final = X.copy()\n",
    "    print('\\n No Numerical features found for SelectKBest')"
   ]
  },
  {
   "cell_type": "code",
   "execution_count": null,
   "id": "ab94b388",
   "metadata": {},
   "outputs": [],
   "source": []
  }
 ],
 "metadata": {
  "kernelspec": {
   "display_name": "venv",
   "language": "python",
   "name": "python3"
  },
  "language_info": {
   "codemirror_mode": {
    "name": "ipython",
    "version": 3
   },
   "file_extension": ".py",
   "mimetype": "text/x-python",
   "name": "python",
   "nbconvert_exporter": "python",
   "pygments_lexer": "ipython3",
   "version": "3.12.1"
  }
 },
 "nbformat": 4,
 "nbformat_minor": 5
}
